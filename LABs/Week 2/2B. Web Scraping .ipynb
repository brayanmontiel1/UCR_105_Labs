{
 "cells": [
  {
   "cell_type": "markdown",
   "metadata": {
    "colab_type": "text",
    "id": "trY1sIDAuWve"
   },
   "source": [
    "# 11.3 Web Scraping\n",
    "\n",
    "**HTML**, which stands for \"hypertext markup language\", is an XML-like language for specifying the appearance of web pages. Each tag in HTML corresponds to a specific page element. For example:\n",
    "\n",
    "- `<img>` specifies an image. The path to the image file is specified in the `src=` attribute.\n",
    "- `<a>` specifies a hyperlink. The text enclosed between `<a>` and `</a>` is the text of the link that appears, while the URL is specified in the `href=` attribute of the tag.\n",
    "- `<table>` specifies a table. The rows of the table are specified by `<tr>` tags nested inside the `<table>` tag, while the cells in each row are specified by `<td>` tags nested inside each `<tr>` tag.\n",
    "\n",
    "Our goal in this section is not to teach you HTML to make a web page. You will learn just enough HTML to be able to scrape data programmatically from a web page."
   ]
  },
  {
   "cell_type": "markdown",
   "metadata": {
    "colab_type": "text",
    "id": "_cq2Gt5ZuWvh"
   },
   "source": [
    "# Inspecting HTML Source Code\n",
    "\n",
    "Suppose we want to scrape faculty information from the [100 Best Films Website](https://www.hollywoodreporter.com/lists/100-best-films-ever-hollywood-favorites-818512) (`https://www.hollywoodreporter.com/lists/100-best-films-ever-hollywood-favorites-818512`). Once we have identified a web page that we want to scrape, the next step is to study the HTML source code. All web browsers have a \"View Source\" or \"Page Source\" feature that will display the HTML source of a web page. \n",
    "\n",
    "Visit the web page above, and view the HTML source of that page. (You may have to search online to figure out how to view the page source in your favorite browser.) Scroll down until you find the HTML code for the table containing information about the name, office, phone, e-mail, and office hours of the faculty members.\n",
    "\n",
    "Notice how difficult it can be to find a page element in the HTML source. Many browsers allow you to right-click on a page element and jump to the part of the HTML source corresponding to that element."
   ]
  },
  {
   "cell_type": "markdown",
   "metadata": {},
   "source": []
  },
  {
   "cell_type": "markdown",
   "metadata": {
    "colab_type": "text",
    "id": "Ppv1jhtTuWvi"
   },
   "source": [
    "# Web Scraping Using BeautifulSoup\n",
    "\n",
    "`BeautifulSoup` is a Python library that makes it easy to navigate an HTML document. Like with `lxml`, we can query tags by name or attribute, and we can narrow our search to the ancestors and descendants of specific tags. In fact, it is possible to use `lxml` with HTML documents, but many web sites have malformed HTML, and `lxml` is not very forgiving. `BeautifulSoup` handles malformed HTML more gracefully and is thus the library of choice.\n",
    "\n",
    "First, we issue an HTTP request to the URL to get the HTML source code."
   ]
  },
  {
   "cell_type": "code",
   "execution_count": 34,
   "metadata": {
    "colab": {},
    "colab_type": "code",
    "id": "hMmOJP-ZuWvj"
   },
   "outputs": [],
   "source": [
    "import requests\n",
    "response = requests.get(\"https://www.hollywoodreporter.com/lists/100-best-films-ever-hollywood-favorites-818512\")"
   ]
  },
  {
   "cell_type": "markdown",
   "metadata": {
    "colab_type": "text",
    "id": "Lcuyq9gpuWvo"
   },
   "source": [
    "The HTML source is stored in the `.content` attribute of the response object. We pass this HTML source into `BeautifulSoup` to obtain a tree-like representation of the HTML document."
   ]
  },
  {
   "cell_type": "code",
   "execution_count": 35,
   "metadata": {
    "colab": {},
    "colab_type": "code",
    "id": "9qEyIz__uWvp"
   },
   "outputs": [],
   "source": [
    "from bs4 import BeautifulSoup\n",
    "soup = BeautifulSoup(response.content, \"html.parser\")"
   ]
  },
  {
   "cell_type": "markdown",
   "metadata": {
    "colab_type": "text",
    "id": "M5XBlMhquWvt"
   },
   "source": [
    "Now we can search for tags within this HTML document, using tags like `.find_all()`. For example, we can find all headings on this page."
   ]
  },
  {
   "cell_type": "code",
   "execution_count": 36,
   "metadata": {
    "colab": {},
    "colab_type": "code",
    "id": "8RpjIxeGuWvu"
   },
   "outputs": [
    {
     "data": {
      "text/plain": [
       "102"
      ]
     },
     "execution_count": 36,
     "metadata": {},
     "output_type": "execute_result"
    }
   ],
   "source": [
    "headings = soup.find_all(\"header\")\n",
    "len(headings)\n"
   ]
  },
  {
   "cell_type": "markdown",
   "metadata": {
    "colab_type": "text",
    "id": "G_q2JhIOuWv3"
   },
   "source": [
    "There is one movie per heading except the first heading item can be ignored. We iterate over all rows, extracting information about each movie to append to `rows`, which we will eventually turn into a `DataFrame`. As you read the code below, refer to the HTML source above, so that you understand what each line is doing. In particular, ask yourself the following questions:\n",
    "\n",
    "You are encouraged to add `print()` statements inside the `for` loop to check your understanding of each line of code."
   ]
  },
  {
   "cell_type": "markdown",
   "metadata": {
    "colab_type": "text",
    "id": "kAVQaQFWuWvx"
   },
   "source": [
    "As a visual inspection of [the web page](https://statistics.calpoly.edu/content/StatisticsDirectory%26Office%20Hours) would confirm, there are 2 tables on the page, and we are interested in the second one."
   ]
  },
  {
   "cell_type": "code",
   "execution_count": 37,
   "metadata": {
    "colab": {},
    "colab_type": "code",
    "id": "XbRSPnisuWv4"
   },
   "outputs": [
    {
     "name": "stdout",
     "output_type": "stream",
     "text": [
      "[{'title': \"Hollywood's 100 Favorite Films\", 'year': None}, {'title': 'The Seven Samurai', 'year': '(1954)'}, {'title': 'Bonnie and Clyde', 'year': '(1967)'}, {'title': 'Reservoir Dogs', 'year': '(1992)'}, {'title': 'Airplane!', 'year': '(1980)'}]\n"
     ]
    }
   ],
   "source": [
    "rows = []\n",
    "for movie in headings[1:]:\n",
    "    # Get all the cells in the row.\n",
    "    movieTitle = movie.find(\"h1\").text\n",
    "    try :\n",
    "        movieYear = movie.find(\"h2\").text\n",
    "    except:\n",
    "        movieYear = None\n",
    "    # Append this data.\n",
    "    rows.append({\n",
    "        \"title\": movieTitle,\n",
    "        \"year\": movieYear\n",
    "    })\n",
    "    \n",
    "print (rows[:5]) # print first 5 rows"
   ]
  },
  {
   "cell_type": "markdown",
   "metadata": {
    "colab_type": "text",
    "id": "rYIyExFTuWv8"
   },
   "source": [
    "In the code above, observe that `.find_all()` returns a list with all matching tags, while `.find()` returns only the first matching tag. If no matching tags are found, then `.find_all()` will return an empty list `[]`, while `.find()` will return `None`.\n",
    "\n",
    "Finally, we turn `rows` into a `DataFrame`."
   ]
  },
  {
   "cell_type": "code",
   "execution_count": 38,
   "metadata": {
    "colab": {},
    "colab_type": "code",
    "id": "9daEVF15uWv9"
   },
   "outputs": [
    {
     "data": {
      "text/html": [
       "<div>\n",
       "<style scoped>\n",
       "    .dataframe tbody tr th:only-of-type {\n",
       "        vertical-align: middle;\n",
       "    }\n",
       "\n",
       "    .dataframe tbody tr th {\n",
       "        vertical-align: top;\n",
       "    }\n",
       "\n",
       "    .dataframe thead th {\n",
       "        text-align: right;\n",
       "    }\n",
       "</style>\n",
       "<table border=\"1\" class=\"dataframe\">\n",
       "  <thead>\n",
       "    <tr style=\"text-align: right;\">\n",
       "      <th></th>\n",
       "      <th>title</th>\n",
       "      <th>year</th>\n",
       "    </tr>\n",
       "  </thead>\n",
       "  <tbody>\n",
       "    <tr>\n",
       "      <th>0</th>\n",
       "      <td>Hollywood's 100 Favorite Films</td>\n",
       "      <td>None</td>\n",
       "    </tr>\n",
       "    <tr>\n",
       "      <th>1</th>\n",
       "      <td>The Seven Samurai</td>\n",
       "      <td>(1954)</td>\n",
       "    </tr>\n",
       "    <tr>\n",
       "      <th>2</th>\n",
       "      <td>Bonnie and Clyde</td>\n",
       "      <td>(1967)</td>\n",
       "    </tr>\n",
       "    <tr>\n",
       "      <th>3</th>\n",
       "      <td>Reservoir Dogs</td>\n",
       "      <td>(1992)</td>\n",
       "    </tr>\n",
       "    <tr>\n",
       "      <th>4</th>\n",
       "      <td>Airplane!</td>\n",
       "      <td>(1980)</td>\n",
       "    </tr>\n",
       "    <tr>\n",
       "      <th>...</th>\n",
       "      <td>...</td>\n",
       "      <td>...</td>\n",
       "    </tr>\n",
       "    <tr>\n",
       "      <th>96</th>\n",
       "      <td>Pulp Fiction</td>\n",
       "      <td>(1994)</td>\n",
       "    </tr>\n",
       "    <tr>\n",
       "      <th>97</th>\n",
       "      <td>The Shawshank Redemption</td>\n",
       "      <td>(1994)</td>\n",
       "    </tr>\n",
       "    <tr>\n",
       "      <th>98</th>\n",
       "      <td>Citizen Kane</td>\n",
       "      <td>(1941)</td>\n",
       "    </tr>\n",
       "    <tr>\n",
       "      <th>99</th>\n",
       "      <td>The Wizard of Oz</td>\n",
       "      <td>(1939)</td>\n",
       "    </tr>\n",
       "    <tr>\n",
       "      <th>100</th>\n",
       "      <td>The Godfather</td>\n",
       "      <td>(1972)</td>\n",
       "    </tr>\n",
       "  </tbody>\n",
       "</table>\n",
       "<p>101 rows × 2 columns</p>\n",
       "</div>"
      ],
      "text/plain": [
       "                              title    year\n",
       "0    Hollywood's 100 Favorite Films    None\n",
       "1                 The Seven Samurai  (1954)\n",
       "2                  Bonnie and Clyde  (1967)\n",
       "3                    Reservoir Dogs  (1992)\n",
       "4                         Airplane!  (1980)\n",
       "..                              ...     ...\n",
       "96                     Pulp Fiction  (1994)\n",
       "97         The Shawshank Redemption  (1994)\n",
       "98                     Citizen Kane  (1941)\n",
       "99                 The Wizard of Oz  (1939)\n",
       "100                   The Godfather  (1972)\n",
       "\n",
       "[101 rows x 2 columns]"
      ]
     },
     "execution_count": 38,
     "metadata": {},
     "output_type": "execute_result"
    }
   ],
   "source": [
    "import pandas as pd\n",
    "pd.DataFrame(rows)"
   ]
  },
  {
   "cell_type": "markdown",
   "metadata": {
    "colab_type": "text",
    "id": "1_Etb0wBuWwB"
   },
   "source": [
    "Now this data is ready for further processing."
   ]
  },
  {
   "cell_type": "markdown",
   "metadata": {
    "colab_type": "text",
    "id": "yN7cN1IluWwC"
   },
   "source": [
    "# Ethical Enlightenment: `robots.txt`\n",
    "\n",
    "Web robots are crawling the web all the time. A website may want to restrict the robots from crawling specific pages. One reason is financial: each visit to a web page, by a human or a robot, costs the website money, and the website may prefer to save their limited bandwidth for human visitors. Another reason is privacy: a website may not want a search engine to preserve a snapshot of a page for all eternity.\n",
    "\n",
    "To specify what a web robot is and isn't allowed to crawl, most websites will place a text file named `robots.txt` in the top-level directory of the web server. For example, the Statistics department web page has a `robots.txt` file: https://statistics.calpoly.edu/robots.txt\n",
    "\n",
    "The format of the `robots.txt` file should be self-explanatory, but you can read a full specification of the standard here: http://www.robotstxt.org/robotstxt.html. As you scrape websites using your web robot, always check the `robots.txt` file first, to make sure that you are respecting the wishes of the website owner."
   ]
  },
  {
   "cell_type": "markdown",
   "metadata": {
    "colab_type": "text",
    "id": "LKAvgpN6uWwD"
   },
   "source": [
    "# Exercises"
   ]
  },
  {
   "cell_type": "markdown",
   "metadata": {
    "colab_type": "text",
    "id": "KK6rJQbuuWwF"
   },
   "source": [
    "Find an easy website to scrape. What do I mean by easy?? Well, the CSE UCR Faculty website is developed in such a way to deter scrappers. Click on the link and checkout the source code. Can you understand it?? https://www1.cs.ucr.edu/people/faculty/\n",
    "\n",
    "Find another website and extract some elements from that website. Try the following websites as a suggestion:\n",
    "1. https://www.imdb.com/list/ls050274118/\n",
    "2. https://www.imdb.com/list/ls000055475/\n",
    "3. https://www.forbes.com/best-states-for-business/list/"
   ]
  },
  {
   "cell_type": "code",
   "execution_count": 1,
   "metadata": {},
   "outputs": [
    {
     "name": "stdout",
     "output_type": "stream",
     "text": [
      "<class 'bs4.element.ResultSet'>\n",
      "100\n",
      "[{'place': '1. ', 'actor': ' Jack Nicholson', 'movie': ' Chinatown'}, {'place': '2. ', 'actor': ' Marlon Brando', 'movie': ' Apocalypse Now'}, {'place': '3. ', 'actor': ' Robert De Niro', 'movie': ' Raging Bull'}, {'place': '4. ', 'actor': ' Al Pacino', 'movie': ' Serpico'}, {'place': '5. ', 'actor': ' Daniel Day-Lewis', 'movie': ' There Will Be Blood'}]\n"
     ]
    },
    {
     "data": {
      "text/html": [
       "<div>\n",
       "<style scoped>\n",
       "    .dataframe tbody tr th:only-of-type {\n",
       "        vertical-align: middle;\n",
       "    }\n",
       "\n",
       "    .dataframe tbody tr th {\n",
       "        vertical-align: top;\n",
       "    }\n",
       "\n",
       "    .dataframe thead th {\n",
       "        text-align: right;\n",
       "    }\n",
       "</style>\n",
       "<table border=\"1\" class=\"dataframe\">\n",
       "  <thead>\n",
       "    <tr style=\"text-align: right;\">\n",
       "      <th></th>\n",
       "      <th>place</th>\n",
       "      <th>actor</th>\n",
       "      <th>movie</th>\n",
       "    </tr>\n",
       "  </thead>\n",
       "  <tbody>\n",
       "    <tr>\n",
       "      <th>0</th>\n",
       "      <td>1.</td>\n",
       "      <td>Jack Nicholson</td>\n",
       "      <td>Chinatown</td>\n",
       "    </tr>\n",
       "    <tr>\n",
       "      <th>1</th>\n",
       "      <td>2.</td>\n",
       "      <td>Marlon Brando</td>\n",
       "      <td>Apocalypse Now</td>\n",
       "    </tr>\n",
       "    <tr>\n",
       "      <th>2</th>\n",
       "      <td>3.</td>\n",
       "      <td>Robert De Niro</td>\n",
       "      <td>Raging Bull</td>\n",
       "    </tr>\n",
       "    <tr>\n",
       "      <th>3</th>\n",
       "      <td>4.</td>\n",
       "      <td>Al Pacino</td>\n",
       "      <td>Serpico</td>\n",
       "    </tr>\n",
       "    <tr>\n",
       "      <th>4</th>\n",
       "      <td>5.</td>\n",
       "      <td>Daniel Day-Lewis</td>\n",
       "      <td>There Will Be Blood</td>\n",
       "    </tr>\n",
       "    <tr>\n",
       "      <th>...</th>\n",
       "      <td>...</td>\n",
       "      <td>...</td>\n",
       "      <td>...</td>\n",
       "    </tr>\n",
       "    <tr>\n",
       "      <th>95</th>\n",
       "      <td>96.</td>\n",
       "      <td>Alan Rickman</td>\n",
       "      <td>Die Hard</td>\n",
       "    </tr>\n",
       "    <tr>\n",
       "      <th>96</th>\n",
       "      <td>97.</td>\n",
       "      <td>Edward G. Robinson</td>\n",
       "      <td>Double Indemnity</td>\n",
       "    </tr>\n",
       "    <tr>\n",
       "      <th>97</th>\n",
       "      <td>98.</td>\n",
       "      <td>Will Smith</td>\n",
       "      <td>The Fresh Prince of Bel-Air</td>\n",
       "    </tr>\n",
       "    <tr>\n",
       "      <th>98</th>\n",
       "      <td>99.</td>\n",
       "      <td>John Goodman</td>\n",
       "      <td>10 Cloverfield Lane</td>\n",
       "    </tr>\n",
       "    <tr>\n",
       "      <th>99</th>\n",
       "      <td>100.</td>\n",
       "      <td>Buster Keaton</td>\n",
       "      <td>The General</td>\n",
       "    </tr>\n",
       "  </tbody>\n",
       "</table>\n",
       "<p>100 rows × 3 columns</p>\n",
       "</div>"
      ],
      "text/plain": [
       "    place                actor                         movie\n",
       "0     1.        Jack Nicholson                     Chinatown\n",
       "1     2.         Marlon Brando                Apocalypse Now\n",
       "2     3.        Robert De Niro                   Raging Bull\n",
       "3     4.             Al Pacino                       Serpico\n",
       "4     5.      Daniel Day-Lewis           There Will Be Blood\n",
       "..    ...                  ...                           ...\n",
       "95   96.          Alan Rickman                      Die Hard\n",
       "96   97.    Edward G. Robinson              Double Indemnity\n",
       "97   98.            Will Smith   The Fresh Prince of Bel-Air\n",
       "98   99.          John Goodman           10 Cloverfield Lane\n",
       "99  100.         Buster Keaton                   The General\n",
       "\n",
       "[100 rows x 3 columns]"
      ]
     },
     "execution_count": 1,
     "metadata": {},
     "output_type": "execute_result"
    }
   ],
   "source": [
    "#exercise activity\n",
    "#used https://www.dataquest.io/blog/web-scraping-beautifulsoup/ for reference.\n",
    "from requests import get\n",
    "url = 'https://www.imdb.com/list/ls050274118/'\n",
    "response = get(url)\n",
    "from bs4 import BeautifulSoup\n",
    "html_soup = BeautifulSoup(response.text, 'html.parser')\n",
    "type(html_soup)\n",
    "movie_containers = html_soup.find_all('div', class_ = 'lister-item mode-detail')\n",
    "print(type(movie_containers))\n",
    "print(len(movie_containers))\n",
    "#up to here then modified previous provided code.\n",
    "rows = []\n",
    "for movie2 in movie_containers[0:]: #need 0 to get first actor\n",
    "    # Get all the cells in the row.\n",
    "    place = movie2.find(\"h3\").span.text\n",
    "    try :\n",
    "        actorname = movie2.find(\"h3\").a.text\n",
    "    except:\n",
    "        actorname = None\n",
    "    try :\n",
    "        moviename = movie2.find(\"p\").a.text\n",
    "    except:\n",
    "        moviename = None\n",
    "    # Append this data.\n",
    "    rows.append({\n",
    "        \"place\": place,\n",
    "        \"actor\": actorname.replace('\\n',''),\n",
    "        \"movie\": moviename.replace('\\n','')\n",
    "    })\n",
    "    \n",
    "print (rows[:5])\n",
    "import pandas as pd\n",
    "pd.DataFrame(rows)"
   ]
  },
  {
   "cell_type": "code",
   "execution_count": 66,
   "metadata": {},
   "outputs": [
    {
     "name": "stdout",
     "output_type": "stream",
     "text": [
      "<class 'bs4.element.ResultSet'>\n",
      "100\n",
      "[{'rank': '1. ', 'actor': ' Meryl Streep', 'movie': ' The Devil Wears Prada'}, {'rank': '2. ', 'actor': ' Ingrid Bergman', 'movie': ' Casablanca'}, {'rank': '3. ', 'actor': ' Vivien Leigh', 'movie': ' A Streetcar Named Desire'}, {'rank': '4. ', 'actor': ' Bette Davis', 'movie': ' All About Eve'}, {'rank': '5. ', 'actor': ' Jodie Foster', 'movie': ' The Silence of the Lambs'}]\n"
     ]
    },
    {
     "data": {
      "text/html": [
       "<div>\n",
       "<style scoped>\n",
       "    .dataframe tbody tr th:only-of-type {\n",
       "        vertical-align: middle;\n",
       "    }\n",
       "\n",
       "    .dataframe tbody tr th {\n",
       "        vertical-align: top;\n",
       "    }\n",
       "\n",
       "    .dataframe thead th {\n",
       "        text-align: right;\n",
       "    }\n",
       "</style>\n",
       "<table border=\"1\" class=\"dataframe\">\n",
       "  <thead>\n",
       "    <tr style=\"text-align: right;\">\n",
       "      <th></th>\n",
       "      <th>rank</th>\n",
       "      <th>actor</th>\n",
       "      <th>movie</th>\n",
       "    </tr>\n",
       "  </thead>\n",
       "  <tbody>\n",
       "    <tr>\n",
       "      <th>0</th>\n",
       "      <td>1.</td>\n",
       "      <td>Meryl Streep</td>\n",
       "      <td>The Devil Wears Prada</td>\n",
       "    </tr>\n",
       "    <tr>\n",
       "      <th>1</th>\n",
       "      <td>2.</td>\n",
       "      <td>Ingrid Bergman</td>\n",
       "      <td>Casablanca</td>\n",
       "    </tr>\n",
       "    <tr>\n",
       "      <th>2</th>\n",
       "      <td>3.</td>\n",
       "      <td>Vivien Leigh</td>\n",
       "      <td>A Streetcar Named Desire</td>\n",
       "    </tr>\n",
       "    <tr>\n",
       "      <th>3</th>\n",
       "      <td>4.</td>\n",
       "      <td>Bette Davis</td>\n",
       "      <td>All About Eve</td>\n",
       "    </tr>\n",
       "    <tr>\n",
       "      <th>4</th>\n",
       "      <td>5.</td>\n",
       "      <td>Jodie Foster</td>\n",
       "      <td>The Silence of the Lambs</td>\n",
       "    </tr>\n",
       "    <tr>\n",
       "      <th>...</th>\n",
       "      <td>...</td>\n",
       "      <td>...</td>\n",
       "      <td>...</td>\n",
       "    </tr>\n",
       "    <tr>\n",
       "      <th>95</th>\n",
       "      <td>96.</td>\n",
       "      <td>Amanda Seyfried</td>\n",
       "      <td>Les Misérables</td>\n",
       "    </tr>\n",
       "    <tr>\n",
       "      <th>96</th>\n",
       "      <td>97.</td>\n",
       "      <td>Sophie Marceau</td>\n",
       "      <td>La boum</td>\n",
       "    </tr>\n",
       "    <tr>\n",
       "      <th>97</th>\n",
       "      <td>98.</td>\n",
       "      <td>Victoria Abril</td>\n",
       "      <td>¡Átame!</td>\n",
       "    </tr>\n",
       "    <tr>\n",
       "      <th>98</th>\n",
       "      <td>99.</td>\n",
       "      <td>Giulietta Masina</td>\n",
       "      <td>Le notti di Cabiria</td>\n",
       "    </tr>\n",
       "    <tr>\n",
       "      <th>99</th>\n",
       "      <td>100.</td>\n",
       "      <td>Doris Day</td>\n",
       "      <td>Pillow Talk</td>\n",
       "    </tr>\n",
       "  </tbody>\n",
       "</table>\n",
       "<p>100 rows × 3 columns</p>\n",
       "</div>"
      ],
      "text/plain": [
       "     rank              actor                      movie\n",
       "0     1.        Meryl Streep      The Devil Wears Prada\n",
       "1     2.      Ingrid Bergman                 Casablanca\n",
       "2     3.        Vivien Leigh   A Streetcar Named Desire\n",
       "3     4.         Bette Davis              All About Eve\n",
       "4     5.        Jodie Foster   The Silence of the Lambs\n",
       "..    ...                ...                        ...\n",
       "95   96.     Amanda Seyfried             Les Misérables\n",
       "96   97.      Sophie Marceau                    La boum\n",
       "97   98.      Victoria Abril                    ¡Átame!\n",
       "98   99.    Giulietta Masina        Le notti di Cabiria\n",
       "99  100.           Doris Day                Pillow Talk\n",
       "\n",
       "[100 rows x 3 columns]"
      ]
     },
     "execution_count": 66,
     "metadata": {},
     "output_type": "execute_result"
    }
   ],
   "source": [
    "#exercise activity\n",
    "#used https://www.dataquest.io/blog/web-scraping-beautifulsoup/ for reference.\n",
    "from requests import get\n",
    "url = 'https://www.imdb.com/list/ls000055475/'\n",
    "response = get(url)\n",
    "from bs4 import BeautifulSoup\n",
    "html_soup = BeautifulSoup(response.text, 'html.parser')\n",
    "type(html_soup)\n",
    "movie_containers = html_soup.find_all('div', class_ = 'lister-item mode-detail')\n",
    "print(type(movie_containers))\n",
    "print(len(movie_containers))\n",
    "#up to here then modified previous provided code.\n",
    "rows = []\n",
    "for movie2 in movie_containers[0:]: #need 0 to get first actor\n",
    "    # Get all the cells in the row.\n",
    "    place = movie2.find(\"h3\").span.text\n",
    "    try :\n",
    "        actorname = movie2.find(\"h3\").a.text\n",
    "    except:\n",
    "        actorname = None\n",
    "    try :\n",
    "        moviename = movie2.find(\"p\").a.text\n",
    "    except:\n",
    "        moviename = None\n",
    "    # Append this data.\n",
    "    rows.append({\n",
    "        \"rank\": place,\n",
    "        \"actor\": actorname.replace('\\n',''),\n",
    "        \"movie\": moviename.replace('\\n','')\n",
    "    })\n",
    "    \n",
    "print (rows[:5])\n",
    "import pandas as pd\n",
    "pd.DataFrame(rows)"
   ]
  },
  {
   "cell_type": "code",
   "execution_count": 98,
   "metadata": {},
   "outputs": [
    {
     "name": "stdout",
     "output_type": "stream",
     "text": [
      "[<tr>\n",
      "<th></th>\n",
      "<th data-field=\"position\"><a>Rank</a></th>\n",
      "<th data-field=\"name\"><a>State</a></th>\n",
      "<th data-field=\"businessCost\"><a>Business<br/>Costs<br/>Rank</a></th>\n",
      "<th data-field=\"laborSupply\"><a>Labor<br/>Supply<br/>Rank</a></th>\n",
      "<th data-field=\"regulatoryEnvironment\"><a>Regulatory<br/>Environment<br/>Rank</a></th>\n",
      "<th data-field=\"economicClimate\"><a>Economic<br/>Climate<br/>Rank</a></th>\n",
      "<th data-field=\"growthProspects\"><a>Growth<br/>Prospects<br/>Rank</a></th>\n",
      "<th data-field=\"lifeQuality\"><a>Quality of<br/>Life<br/>Rank</a></th>\n",
      "<th data-field=\"population\"><a>Population</a></th>\n",
      "</tr>, <tr class=\"data\">\n",
      "<td class=\"image\"><a href=\"[LINK]\"><img alt=\"\" data-src=\"https://thumbor.forbes.com/thumbor/100x100/https://i.forbesimg.com/media/lists/[IMAGE_TYPE]/[IMAGE_URI]_416x416.jpg\"/></a></td>\n",
      "<td class=\"rank\">[RANK]</td>\n",
      "<td class=\"name\"><a href=\"[LINK]\">[NAME]</a></td>\n",
      "<td>[BUSINESS_COST]</td>\n",
      "<td>[LABOR_SUPPLY]</td>\n",
      "<td>[REGULATORY_ENVIRONMENT]</td>\n",
      "<td>[ECONOMIC_CLIMATE]</td>\n",
      "<td>[GROWTH_PROSPECTS]</td>\n",
      "<td>[LIFE_QUAITY]</td>\n",
      "<td>[POPULATION]</td>\n",
      "</tr>]\n"
     ]
    }
   ],
   "source": [
    "#exercise activity\n",
    "#used https://www.dataquest.io/blog/web-scraping-beautifulsoup/ (for reference.)\n",
    "#used https://pythonprogramming.net/tables-xml-scraping-parsing-beautiful-soup-tutorial/ (for reference.)\n",
    "from requests import get\n",
    "url = 'https://www.forbes.com/best-states-for-business/list/'\n",
    "response = get(url)\n",
    "from bs4 import BeautifulSoup\n",
    "soup = BeautifulSoup(response.text, 'html.parser')\n",
    "type(soup)\n",
    "#business = html_soup.findAll('table')[0].findAll('tr')\n",
    "tables = soup.find('table')\n",
    "table_rows = soup.find_all('tr')\n",
    "print(table_rows)"
   ]
  },
  {
   "cell_type": "code",
   "execution_count": null,
   "metadata": {},
   "outputs": [],
   "source": []
  }
 ],
 "metadata": {
  "colab": {
   "name": "11.3 Web Scraping.ipynb",
   "provenance": []
  },
  "kernelspec": {
   "display_name": "Python 3",
   "language": "python",
   "name": "python3"
  },
  "language_info": {
   "codemirror_mode": {
    "name": "ipython",
    "version": 3
   },
   "file_extension": ".py",
   "mimetype": "text/x-python",
   "name": "python",
   "nbconvert_exporter": "python",
   "pygments_lexer": "ipython3",
   "version": "3.7.6"
  }
 },
 "nbformat": 4,
 "nbformat_minor": 4
}
